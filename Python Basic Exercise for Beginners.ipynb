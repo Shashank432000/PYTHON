{
 "cells": [
  {
   "cell_type": "code",
   "execution_count": 1,
   "id": "61cd7445",
   "metadata": {},
   "outputs": [],
   "source": [
    "#Exercise 1:Print HELLO'WORLD in two lines"
   ]
  },
  {
   "cell_type": "code",
   "execution_count": 2,
   "id": "f89ff46e",
   "metadata": {},
   "outputs": [
    {
     "name": "stdout",
     "output_type": "stream",
     "text": [
      "HELLO'\n",
      "      WORLD\n"
     ]
    }
   ],
   "source": [
    "print('''HELLO'\n",
    "      WORLD''')"
   ]
  },
  {
   "cell_type": "code",
   "execution_count": 3,
   "id": "d6742a87",
   "metadata": {},
   "outputs": [],
   "source": [
    "#Exercise 2:Print the sum of the current number and the previous number"
   ]
  },
  {
   "cell_type": "code",
   "execution_count": 4,
   "id": "076fd75f",
   "metadata": {},
   "outputs": [
    {
     "name": "stdout",
     "output_type": "stream",
     "text": [
      "Current Number 0 Previous Number  1  Sum:1  \n",
      "Current Number 1 Previous Number  2  Sum:3  \n",
      "Current Number 2 Previous Number  3  Sum:5  \n",
      "Current Number 3 Previous Number  4  Sum:7  \n",
      "Current Number 4 Previous Number  5  Sum:9  \n",
      "Current Number 5 Previous Number  6  Sum:11  \n",
      "Current Number 6 Previous Number  7  Sum:13  \n",
      "Current Number 7 Previous Number  8  Sum:15  \n",
      "Current Number 8 Previous Number  9  Sum:17  \n",
      "Current Number 9 Previous Number  10  Sum:19  \n",
      "Current Number 10 Previous Number  11  Sum:21  \n"
     ]
    }
   ],
   "source": [
    "for i in range (0,11):\n",
    "    print(f\"Current Number {i} Previous Number  {i+1}  Sum:{i+(i+1)}  \")"
   ]
  },
  {
   "cell_type": "code",
   "execution_count": 5,
   "id": "eee094d3",
   "metadata": {},
   "outputs": [],
   "source": [
    "#Exercise 3:Print characters from a string that are present at an even index number"
   ]
  },
  {
   "cell_type": "code",
   "execution_count": 6,
   "id": "175e0df3",
   "metadata": {},
   "outputs": [
    {
     "name": "stdout",
     "output_type": "stream",
     "text": [
      "Enter any String \tSHASHANK DWIVEDI\n",
      "In this string every second word is H\n",
      "In this string every second word is S\n",
      "In this string every second word is A\n",
      "In this string every second word is K\n",
      "In this string every second word is D\n",
      "In this string every second word is I\n",
      "In this string every second word is E\n"
     ]
    }
   ],
   "source": [
    "a=input(\"Enter any String \\t\")\n",
    "for i in a[1:-1:2]:\n",
    "    print(f\"In this string every second word is {i}\")"
   ]
  },
  {
   "cell_type": "code",
   "execution_count": 7,
   "id": "87bd2faa",
   "metadata": {},
   "outputs": [],
   "source": [
    "#Exercise 4: Remove first n characters from a string"
   ]
  },
  {
   "cell_type": "code",
   "execution_count": 8,
   "id": "c7ca0f2f",
   "metadata": {},
   "outputs": [
    {
     "name": "stdout",
     "output_type": "stream",
     "text": [
      "Enter any String \tSHASHANK DWIVDI\n",
      "Remove first n characters from a string \t2\n",
      "ASHANK DWIVDI\n"
     ]
    }
   ],
   "source": [
    "a=input(\"Enter any String \\t\")\n",
    "n=int(input(\"Remove first n characters from a string \\t\"))\n",
    "print(a[n::1])"
   ]
  },
  {
   "cell_type": "code",
   "execution_count": 9,
   "id": "67e65c0c",
   "metadata": {},
   "outputs": [],
   "source": [
    "#Exercise 5: Check if the first and last number of a list is the same"
   ]
  },
  {
   "cell_type": "code",
   "execution_count": 10,
   "id": "3b66f807",
   "metadata": {},
   "outputs": [
    {
     "name": "stdout",
     "output_type": "stream",
     "text": [
      "True\n"
     ]
    }
   ],
   "source": [
    "a=[12,13,14,15,16,18,12]\n",
    "if a[0]==a[-1]:\n",
    "    print(\"True\")\n",
    "else:\n",
    "    print(\"False\")"
   ]
  },
  {
   "cell_type": "code",
   "execution_count": 11,
   "id": "9d58b4a1",
   "metadata": {},
   "outputs": [],
   "source": [
    "#Exercise 6: Display numbers divisible by 5 from a list\n",
    "#Given list is  [10, 20, 33, 46, 55]"
   ]
  },
  {
   "cell_type": "code",
   "execution_count": 12,
   "id": "938efe22",
   "metadata": {},
   "outputs": [
    {
     "name": "stdout",
     "output_type": "stream",
     "text": [
      "10\n",
      "20\n",
      "55\n"
     ]
    }
   ],
   "source": [
    "a=[10, 20, 33, 46, 55]\n",
    "for i in a :\n",
    "    if i%5==0:\n",
    "        print(i)"
   ]
  },
  {
   "cell_type": "code",
   "execution_count": 13,
   "id": "a560ce9f",
   "metadata": {},
   "outputs": [],
   "source": [
    "#Exercise 7: Return the count of a given substring from a string.\n",
    "# x = \"Emma is good developer. Emma is a writer\""
   ]
  },
  {
   "cell_type": "code",
   "execution_count": 14,
   "id": "5bae7ba8",
   "metadata": {},
   "outputs": [
    {
     "data": {
      "text/plain": [
       "2"
      ]
     },
     "execution_count": 14,
     "metadata": {},
     "output_type": "execute_result"
    }
   ],
   "source": [
    "x = \"Emma is good developer. Emma is a writer\"\n",
    "x.count(\"Emma\")"
   ]
  },
  {
   "cell_type": "code",
   "execution_count": 15,
   "id": "2c544426",
   "metadata": {},
   "outputs": [],
   "source": [
    "# Exercise 8: Print the following pattern\n",
    "# 1 \n",
    "# 2 2 \n",
    "# 3 3 3 \n",
    "# 4 4 4 4 \n",
    "# 5 5 5 5 5"
   ]
  },
  {
   "cell_type": "code",
   "execution_count": 16,
   "id": "2713a156",
   "metadata": {},
   "outputs": [
    {
     "name": "stdout",
     "output_type": "stream",
     "text": [
      "\n",
      "\n",
      "1  \n",
      "\n",
      "2  2  \n",
      "\n",
      "3  3  3  \n",
      "\n",
      "4  4  4  4  \n",
      "\n",
      "5  5  5  5  5  \n",
      "\n"
     ]
    }
   ],
   "source": [
    "for a in range(6):\n",
    "    for i in range(a):\n",
    "        print(a,end=\"  \")\n",
    "    print(\"\\n\")"
   ]
  },
  {
   "cell_type": "code",
   "execution_count": 17,
   "id": "5203c35e",
   "metadata": {},
   "outputs": [],
   "source": [
    "# Exercise 9: Check Palindrome Number\n",
    "# Write a program to check if the given number is a palindrome number.\n",
    "\n",
    "# A palindrome number is a number that is same after reverse. For example 545, is the palindrome numbers"
   ]
  },
  {
   "cell_type": "code",
   "execution_count": 18,
   "id": "8404727a",
   "metadata": {},
   "outputs": [
    {
     "name": "stdout",
     "output_type": "stream",
     "text": [
      "Guess Any No.565\n",
      "565 is plaindrome no.\n"
     ]
    }
   ],
   "source": [
    "a=input(\"Guess Any No.\")\n",
    "number=int(a)\n",
    "reverse_number= int(a[::-1])\n",
    "\n",
    "if number==reverse_number:\n",
    "    print(f\"{number} is plaindrome no.\")\n",
    "else:\n",
    "    print(f\"{number} is not plaindrome no.\")   "
   ]
  },
  {
   "cell_type": "code",
   "execution_count": 19,
   "id": "34fd2b00",
   "metadata": {},
   "outputs": [],
   "source": [
    "# Exercise 10: Create a new list from a two list using the following condition\n",
    "\n",
    "#Given a two list of numbers, write a program to create a new list such that \n",
    "#the new list should contain odd numbers from the first list and even numbers from the second list.\n",
    "\n",
    "# list1 = [10, 20, 25, 30, 35]\n",
    "# list2 = [40, 45, 60, 75, 90]"
   ]
  },
  {
   "cell_type": "code",
   "execution_count": 20,
   "id": "f751264e",
   "metadata": {},
   "outputs": [
    {
     "name": "stdout",
     "output_type": "stream",
     "text": [
      "[25, 35, 40, 60, 90]\n"
     ]
    }
   ],
   "source": [
    "list1 = [10, 20, 25, 30, 35]\n",
    "list2 = [40, 45, 60, 75, 90]\n",
    "list3=[]\n",
    "for i in list1:\n",
    "    if i%2!=0:\n",
    "        list3.append(i)\n",
    "for i in list2:\n",
    "    if i%2==0:\n",
    "        list3.append(i)\n",
    "print(list3)"
   ]
  },
  {
   "cell_type": "code",
   "execution_count": 21,
   "id": "6a1d6143",
   "metadata": {},
   "outputs": [],
   "source": [
    "# Exercise 11: Write a Program to extract each digit from an integer in the reverse order.\n",
    "\n",
    "# For example, If the given int is 7536, the output shall be “6 3 5 7“, \n",
    "#with a space separating the digits."
   ]
  },
  {
   "cell_type": "code",
   "execution_count": 22,
   "id": "0ed08cab",
   "metadata": {},
   "outputs": [
    {
     "name": "stdout",
     "output_type": "stream",
     "text": [
      "Given number 7536\n",
      "6  3  5  7  "
     ]
    }
   ],
   "source": [
    "number = 7536\n",
    "print(\"Given number\", number)\n",
    "while number > 0:\n",
    "    digit = number % 10\n",
    "    number = number // 10\n",
    "    print(digit,end=\"  \")"
   ]
  },
  {
   "cell_type": "code",
   "execution_count": 23,
   "id": "ace9cfa8",
   "metadata": {},
   "outputs": [],
   "source": [
    "# Exercise 12: Calculate income tax for the given income by adhering to the below rules\n",
    "# Taxable Income\tRate (in %)\n",
    "# First 10,000\t0\n",
    "# Next 10,000\t10\n",
    "# The remaining\t20"
   ]
  },
  {
   "cell_type": "code",
   "execution_count": 24,
   "id": "6e68a298",
   "metadata": {},
   "outputs": [
    {
     "name": "stdout",
     "output_type": "stream",
     "text": [
      "What is your annual income\t45000\n",
      "Your income tax is  8500.0\n"
     ]
    }
   ],
   "source": [
    "income=int(input(\"What is your annual income\\t\"))\n",
    "if income<=10000:\n",
    "    print(\"Your income tax is 0\")\n",
    "elif income<=20000:\n",
    "    print(\"Your income tax is \",(income-10000)*10/100,sep=\" \")\n",
    "else:\n",
    "    print(\"Your income tax is \",(income-10000)*10/100+(income-20000)*20/100,sep=\" \")"
   ]
  },
  {
   "cell_type": "code",
   "execution_count": 25,
   "id": "c3ed8ba6",
   "metadata": {},
   "outputs": [],
   "source": [
    "#Exercise 13: Print multiplication table form 1 to 10\n",
    "# 1  2 3 4 5 6 7 8 9 10 \n",
    "# 2  4 6 8 10 12 14 16 18 20 \n",
    "# 3  6 9 12 15 18 21 24 27 30 \n",
    "# 4  8 12 16 20 24 28 32 36 40 \n",
    "# 5  10 15 20 25 30 35 40 45 50 \n",
    "# 6  12 18 24 30 36 42 48 54 60 \n",
    "# 7  14 21 28 35 42 49 56 63 70 \n",
    "# 8  16 24 32 40 48 56 64 72 80 \n",
    "# 9  18 27 36 45 54 63 72 81 90 \n",
    "# 10 20 30 40 50 60 70 80 90 100 "
   ]
  },
  {
   "cell_type": "code",
   "execution_count": 26,
   "id": "fd39f09c",
   "metadata": {},
   "outputs": [
    {
     "name": "stdout",
     "output_type": "stream",
     "text": [
      "1 2 3 4 5 6 7 8 9 10 \t\n",
      "2 4 6 8 10 12 14 16 18 20 \t\n",
      "3 6 9 12 15 18 21 24 27 30 \t\n",
      "4 8 12 16 20 24 28 32 36 40 \t\n",
      "5 10 15 20 25 30 35 40 45 50 \t\n",
      "6 12 18 24 30 36 42 48 54 60 \t\n",
      "7 14 21 28 35 42 49 56 63 70 \t\n",
      "8 16 24 32 40 48 56 64 72 80 \t\n",
      "9 18 27 36 45 54 63 72 81 90 \t\n",
      "10 20 30 40 50 60 70 80 90 100 \t\n"
     ]
    }
   ],
   "source": [
    "for i in range(1,11):\n",
    "    for a in range(1,11):\n",
    "        print(a*i,end=\" \")\n",
    "    print(\"\\t\")"
   ]
  },
  {
   "cell_type": "code",
   "execution_count": 27,
   "id": "6db99d80",
   "metadata": {},
   "outputs": [],
   "source": [
    "#Exercise 14: Print downward Half-Pyramid Pattern with Star (asterisk)\n",
    "# * * * * *  \n",
    "# * * * *  \n",
    "# * * *  \n",
    "# * *  \n",
    "# *"
   ]
  },
  {
   "cell_type": "code",
   "execution_count": 28,
   "id": "d6ac9626",
   "metadata": {},
   "outputs": [
    {
     "name": "stdout",
     "output_type": "stream",
     "text": [
      "* * * * * \t\n",
      "* * * * \t\n",
      "* * * \t\n",
      "* * \t\n",
      "* \t\n"
     ]
    }
   ],
   "source": [
    "for i in range(5,0,-1):\n",
    "    for a in range(i):\n",
    "        print(\"*\",end=\" \")\n",
    "    print(\"\\t\")"
   ]
  },
  {
   "cell_type": "code",
   "execution_count": 29,
   "id": "db3caad3",
   "metadata": {},
   "outputs": [],
   "source": [
    "# Exercise 15: Write a function called exponent(base, exp) \n",
    "#that returns an int value of base raises to the power of exp.\n"
   ]
  },
  {
   "cell_type": "code",
   "execution_count": 30,
   "id": "a169032e",
   "metadata": {},
   "outputs": [
    {
     "name": "stdout",
     "output_type": "stream",
     "text": [
      "2 raises to the power of 3 is: 8\n"
     ]
    }
   ],
   "source": [
    "def exponent(base,exp):\n",
    "    print(base,\"raises to the power of\",exp,\"is:\",base**exp,sep=\" \")\n",
    "exponent(2,3)   "
   ]
  }
 ],
 "metadata": {
  "kernelspec": {
   "display_name": "Python 3 (ipykernel)",
   "language": "python",
   "name": "python3"
  },
  "language_info": {
   "codemirror_mode": {
    "name": "ipython",
    "version": 3
   },
   "file_extension": ".py",
   "mimetype": "text/x-python",
   "name": "python",
   "nbconvert_exporter": "python",
   "pygments_lexer": "ipython3",
   "version": "3.9.7"
  }
 },
 "nbformat": 4,
 "nbformat_minor": 5
}
